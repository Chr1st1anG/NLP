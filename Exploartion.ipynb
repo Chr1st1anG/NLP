{
 "cells": [
  {
   "cell_type": "code",
   "execution_count": null,
   "id": "toxic-fifteen",
   "metadata": {
    "ExecuteTime": {
     "end_time": "2021-08-17T14:32:18.445240Z",
     "start_time": "2021-08-17T14:32:16.179297Z"
    }
   },
   "outputs": [],
   "source": [
    "import json\n",
    "import numpy as np\n",
    "from matplotlib import pyplot as plt\n",
    "from datetime import datetime\n",
    "import re\n",
    "import pandas as pd\n",
    "import itertools\n",
    "from wordcloud import WordCloud, STOPWORDS\n",
    "from PIL import Image\n",
    "import spacy\n",
    "from spacy.lang.de.stop_words import STOP_WORDS\n",
    "nlp = spacy.load(\"de_core_news_sm\")"
   ]
  },
  {
   "cell_type": "code",
   "execution_count": null,
   "id": "signed-distance",
   "metadata": {
    "ExecuteTime": {
     "end_time": "2021-08-17T13:49:12.069059Z",
     "start_time": "2021-08-17T13:49:11.579349Z"
    }
   },
   "outputs": [],
   "source": [
    "with open(\"articles.json\", \"r\") as f:\n",
    "    articles = json.load(f)"
   ]
  },
  {
   "cell_type": "code",
   "execution_count": null,
   "id": "processed-reggae",
   "metadata": {
    "ExecuteTime": {
     "end_time": "2021-08-17T14:59:59.730499Z",
     "start_time": "2021-08-17T14:59:59.445106Z"
    },
    "scrolled": true
   },
   "outputs": [],
   "source": [
    "articles"
   ]
  },
  {
   "cell_type": "markdown",
   "id": "private-inside",
   "metadata": {
    "ExecuteTime": {
     "end_time": "2021-07-27T11:01:39.233955Z",
     "start_time": "2021-07-27T11:01:39.228955Z"
    }
   },
   "source": [
    "# Seperate Analyse jedes heruntergeladenen Feldes"
   ]
  },
  {
   "cell_type": "markdown",
   "id": "emotional-disabled",
   "metadata": {
    "ExecuteTime": {
     "end_time": "2021-07-27T11:03:12.322947Z",
     "start_time": "2021-07-27T11:03:12.310944Z"
    }
   },
   "source": [
    "## number_comments"
   ]
  },
  {
   "cell_type": "code",
   "execution_count": null,
   "id": "adult-composer",
   "metadata": {
    "ExecuteTime": {
     "end_time": "2021-08-13T13:12:50.944152Z",
     "start_time": "2021-08-13T13:12:50.927557Z"
    }
   },
   "outputs": [],
   "source": [
    "number_comments_list = [article[\"number_comments\"] for article in articles]\n",
    "number_comments_np = np.array(number_comments_list)"
   ]
  },
  {
   "cell_type": "markdown",
   "id": "personal-solution",
   "metadata": {},
   "source": [
    "### Verteilung"
   ]
  },
  {
   "cell_type": "code",
   "execution_count": null,
   "id": "severe-preview",
   "metadata": {
    "ExecuteTime": {
     "end_time": "2021-08-13T13:12:53.457041Z",
     "start_time": "2021-08-13T13:12:53.118049Z"
    }
   },
   "outputs": [],
   "source": [
    "f = plt.figure(figsize=(20,5))\n",
    "plt.subplot(1, 2, 1)\n",
    "plt.hist(number_comments_np)\n",
    "plt.xlabel('Anzahl Kommentare')\n",
    "plt.ylabel('Häufigkeit')\n",
    "plt.title('Kommentar Histogram')\n",
    "plt.subplot(1, 2, 2)\n",
    "plt.hist(np.sort(number_comments_np)[:12000])\n",
    "plt.xlabel('Anzahl Kommentare')\n",
    "plt.ylabel('Häufigkeit')\n",
    "plt.title('Kommentar Histogram (Zoomed)')\n",
    "plt.show(f)"
   ]
  },
  {
   "cell_type": "code",
   "execution_count": null,
   "id": "historical-scheme",
   "metadata": {
    "ExecuteTime": {
     "end_time": "2021-08-13T13:13:02.217305Z",
     "start_time": "2021-08-13T13:13:02.198065Z"
    }
   },
   "outputs": [],
   "source": [
    "np.mean(number_comments_np)"
   ]
  },
  {
   "cell_type": "code",
   "execution_count": null,
   "id": "laden-powder",
   "metadata": {
    "ExecuteTime": {
     "end_time": "2021-08-13T13:13:04.214586Z",
     "start_time": "2021-08-13T13:13:03.864309Z"
    }
   },
   "outputs": [],
   "source": [
    "f = plt.figure(figsize=(20,5))\n",
    "plt.subplot(1, 2, 1)\n",
    "plt.boxplot(number_comments_np)\n",
    "plt.title('Boxplot Kommentare')\n",
    "plt.subplot(1, 2, 2)\n",
    "plt.boxplot(number_comments_np,showfliers=False)\n",
    "plt.title('Boxplot Kommentare ohne Outlier')\n",
    "plt.show(f)"
   ]
  },
  {
   "cell_type": "markdown",
   "id": "proof-russia",
   "metadata": {
    "ExecuteTime": {
     "end_time": "2021-07-27T11:06:22.809493Z",
     "start_time": "2021-07-27T11:06:22.801488Z"
    }
   },
   "source": [
    "### Meist diskutierte Artikel 🚗"
   ]
  },
  {
   "cell_type": "code",
   "execution_count": null,
   "id": "subject-instruction",
   "metadata": {
    "ExecuteTime": {
     "end_time": "2021-08-13T13:13:23.787413Z",
     "start_time": "2021-08-13T13:13:23.769007Z"
    }
   },
   "outputs": [],
   "source": [
    "for idx in reversed(np.argsort(number_comments_np)[-5:]):\n",
    "    print(f\"Anzahl Kommentare {articles[idx]['number_comments']}\")\n",
    "    print(f\"Überschrift \\\"{articles[idx]['heading']}\\\"\")\n",
    "    print(f\"Datum {articles[idx]['date']}\")\n",
    "    print()"
   ]
  },
  {
   "cell_type": "markdown",
   "id": "raising-button",
   "metadata": {
    "ExecuteTime": {
     "end_time": "2021-07-27T11:31:11.968475Z",
     "start_time": "2021-07-27T11:31:11.956470Z"
    }
   },
   "source": [
    "### Artikel ohne Kommentare"
   ]
  },
  {
   "cell_type": "code",
   "execution_count": null,
   "id": "rubber-toronto",
   "metadata": {
    "ExecuteTime": {
     "end_time": "2021-08-13T13:13:37.133978Z",
     "start_time": "2021-08-13T13:13:37.116425Z"
    }
   },
   "outputs": [],
   "source": [
    "np.count_nonzero(number_comments_np==0)"
   ]
  },
  {
   "cell_type": "markdown",
   "id": "pending-mouth",
   "metadata": {
    "heading_collapsed": true
   },
   "source": [
    "## date"
   ]
  },
  {
   "cell_type": "code",
   "execution_count": null,
   "id": "surgical-justice",
   "metadata": {
    "ExecuteTime": {
     "end_time": "2021-08-13T13:13:41.185081Z",
     "start_time": "2021-08-13T13:13:41.176318Z"
    },
    "hidden": true
   },
   "outputs": [],
   "source": [
    "number_comments_list = [article[\"number_comments\"] for article in articles]\n",
    "number_comments_np = np.array(number_comments_list)"
   ]
  },
  {
   "cell_type": "markdown",
   "id": "latest-miller",
   "metadata": {
    "hidden": true
   },
   "source": [
    "### Artikel pro Jar\n",
    "\n",
    "Seit 2003 wurden in der Rubrik Wirtschaft Artikel veröffentlicht, allerdings erst ab 2017 mit erhöhter Häufigkeit (> 2000). Seit 2017 steigt die Anzahl der publizierten Artikel (2021 bei bereits der Hälfte des Jahres ca. so viele Artikel wie 2017)."
   ]
  },
  {
   "cell_type": "code",
   "execution_count": null,
   "id": "warming-milton",
   "metadata": {
    "ExecuteTime": {
     "end_time": "2021-08-13T13:13:53.427384Z",
     "start_time": "2021-08-13T13:13:53.197810Z"
    },
    "hidden": true
   },
   "outputs": [],
   "source": [
    "articles_year = {}\n",
    "for article in articles:\n",
    "    date = article[\"date\"]\n",
    "    date = datetime.strptime(date, \"%m-%d-%Y, %H:%M\")\n",
    "    articles_year[date.year] = articles_year.get(date.year,0) + 1"
   ]
  },
  {
   "cell_type": "code",
   "execution_count": null,
   "id": "expressed-deadline",
   "metadata": {
    "ExecuteTime": {
     "end_time": "2021-08-13T13:13:54.745062Z",
     "start_time": "2021-08-13T13:13:54.481009Z"
    },
    "hidden": true
   },
   "outputs": [],
   "source": [
    "plt.figure(figsize=(20,5))\n",
    "plt.bar(range(len(articles_year)), list(articles_year.values()), align='center')\n",
    "plt.xticks(range(len(articles_year)), list(articles_year.keys()))\n",
    "plt.xlabel('Jahr')\n",
    "plt.ylabel('Häufigkeit')\n",
    "plt.gca().invert_xaxis()\n",
    "plt.show()"
   ]
  },
  {
   "cell_type": "markdown",
   "id": "correct-above",
   "metadata": {
    "ExecuteTime": {
     "end_time": "2021-07-27T13:53:43.790785Z",
     "start_time": "2021-07-27T13:53:43.781777Z"
    },
    "hidden": true
   },
   "source": [
    "### Artikel nach Monat (ohne 2021)\n",
    "Im Juli werden am meisten Artikel veröffenlticht (ca. 200 mehr als der Durchschnitt).<br>\n",
    "Im Februar werden am wenigsten Artikel veröffenlticht (ca. 170 weniger als der Durchschnitt)."
   ]
  },
  {
   "cell_type": "code",
   "execution_count": null,
   "id": "serial-robertson",
   "metadata": {
    "ExecuteTime": {
     "end_time": "2021-08-13T13:13:58.335294Z",
     "start_time": "2021-08-13T13:13:58.014083Z"
    },
    "hidden": true
   },
   "outputs": [],
   "source": [
    "articles_mo = {}\n",
    "for article in articles:\n",
    "    date = article[\"date\"]\n",
    "    date = datetime.strptime(date, \"%m-%d-%Y, %H:%M\")\n",
    "    if date.year != 2021:\n",
    "        articles_mo[date.strftime(\"%B\")] = articles_mo.get(date.strftime(\"%B\"),0) + 1"
   ]
  },
  {
   "cell_type": "code",
   "execution_count": null,
   "id": "handled-smart",
   "metadata": {
    "ExecuteTime": {
     "end_time": "2021-08-13T13:14:00.141079Z",
     "start_time": "2021-08-13T13:13:59.944105Z"
    },
    "hidden": true
   },
   "outputs": [],
   "source": [
    "plt.figure(figsize=(20,5))\n",
    "plt.bar(range(len(articles_mo)), list(articles_mo.values()), align='center')\n",
    "plt.xticks(range(len(articles_mo)), list(articles_mo.keys()))\n",
    "plt.xlabel('Monat')\n",
    "plt.ylabel('Häufigkeit')\n",
    "plt.gca().invert_xaxis()\n",
    "plt.show()"
   ]
  },
  {
   "cell_type": "code",
   "execution_count": null,
   "id": "surprising-essay",
   "metadata": {
    "ExecuteTime": {
     "end_time": "2021-08-13T13:14:08.426583Z",
     "start_time": "2021-08-13T13:14:08.415582Z"
    },
    "hidden": true
   },
   "outputs": [],
   "source": [
    "articles_mo[\"July\"] - np.mean(list(articles_mo.values()))"
   ]
  },
  {
   "cell_type": "code",
   "execution_count": null,
   "id": "marine-moral",
   "metadata": {
    "ExecuteTime": {
     "end_time": "2021-08-13T13:14:09.256619Z",
     "start_time": "2021-08-13T13:14:09.239585Z"
    },
    "hidden": true
   },
   "outputs": [],
   "source": [
    "np.mean(list(articles_mo.values())) - articles_mo[\"February\"]"
   ]
  },
  {
   "cell_type": "markdown",
   "id": "residential-logan",
   "metadata": {
    "hidden": true
   },
   "source": [
    "### Artikel nach Stunde (ohne 2021)\n",
    "\n",
    "Artikel werden gewöhnlich zwischen 6 und 19 Uhr veröffenlticht. Um 10 Uhr werden am meisten Artikel veröffenlicht."
   ]
  },
  {
   "cell_type": "code",
   "execution_count": null,
   "id": "funny-introduction",
   "metadata": {
    "ExecuteTime": {
     "end_time": "2021-08-13T13:14:24.777426Z",
     "start_time": "2021-08-13T13:14:24.578990Z"
    },
    "hidden": true
   },
   "outputs": [],
   "source": [
    "articles_hour = {}\n",
    "for article in articles:\n",
    "    date = article[\"date\"]\n",
    "    date = datetime.strptime(date, \"%m-%d-%Y, %H:%M\")\n",
    "    if date.year != 2021:\n",
    "        articles_hour[date.hour] = articles_hour.get(date.hour,0) + 1\n",
    "articles_hour = {key: value for (key, value) in sorted(articles_hour.items(), key=lambda x: x[0], reverse=True)}"
   ]
  },
  {
   "cell_type": "code",
   "execution_count": null,
   "id": "arranged-copyright",
   "metadata": {
    "ExecuteTime": {
     "end_time": "2021-08-13T13:14:25.584690Z",
     "start_time": "2021-08-13T13:14:25.276815Z"
    },
    "hidden": true
   },
   "outputs": [],
   "source": [
    "plt.figure(figsize=(20,5))\n",
    "plt.bar(range(len(articles_hour)), list(articles_hour.values()), align='center')\n",
    "plt.xticks(range(len(articles_hour)), list(articles_hour.keys()))\n",
    "plt.xlabel('Stunde')\n",
    "plt.ylabel('Häufigkeit')\n",
    "plt.gca().invert_xaxis()\n",
    "plt.show()"
   ]
  },
  {
   "cell_type": "markdown",
   "id": "passing-remainder",
   "metadata": {
    "heading_collapsed": true
   },
   "source": [
    "## branding\n",
    "\n",
    "Es gibt insgesamt 10 verschiedene Tags (Ein Artikel kann nur ein Tag haben; gibt das jeweilige Heise Magazin an). Nur ca. 17% (2715) aller Artikel besitzen ein Tag. Die Tags \"Mac & i\" und \"Autos\" treten mit 1012 am häufigsten auf, während das Tag 'Telepolis' nur einmal auftritt."
   ]
  },
  {
   "cell_type": "code",
   "execution_count": null,
   "id": "attended-theorem",
   "metadata": {
    "ExecuteTime": {
     "end_time": "2021-08-13T13:14:36.307852Z",
     "start_time": "2021-08-13T13:14:36.292644Z"
    },
    "hidden": true
   },
   "outputs": [],
   "source": [
    "tags = [tag for article in articles for tag in article[\"brandig\"]]"
   ]
  },
  {
   "cell_type": "code",
   "execution_count": null,
   "id": "awful-johnston",
   "metadata": {
    "ExecuteTime": {
     "end_time": "2021-08-13T13:14:36.849121Z",
     "start_time": "2021-08-13T13:14:36.840314Z"
    },
    "hidden": true
   },
   "outputs": [],
   "source": [
    "print(len(set(tags)))\n",
    "set(tags)"
   ]
  },
  {
   "cell_type": "code",
   "execution_count": null,
   "id": "laughing-belief",
   "metadata": {
    "ExecuteTime": {
     "end_time": "2021-08-13T13:14:58.840234Z",
     "start_time": "2021-08-13T13:14:58.835654Z"
    },
    "hidden": true
   },
   "outputs": [],
   "source": [
    "print(f\"Anzahl Artikel ohne Tags: {len(articles) - len(tags)}\")\n",
    "print(f\"Anzahl Artikel mit Tags: {len(tags)}\")\n",
    "print(f\"Anteil Artikel mit Tags: {len(tags)/(len(articles) + len(tags))}\")"
   ]
  },
  {
   "cell_type": "code",
   "execution_count": null,
   "id": "cloudy-mortgage",
   "metadata": {
    "ExecuteTime": {
     "end_time": "2021-08-13T13:14:59.349127Z",
     "start_time": "2021-08-13T13:14:59.339128Z"
    },
    "hidden": true
   },
   "outputs": [],
   "source": [
    "tag_frequencies = {}\n",
    "for tag in tags:\n",
    "    tag_frequencies[tag] = tag_frequencies.get(tag,0)+1\n",
    "tag_frequencies = {key: value for (key, value) in sorted(tag_frequencies.items(), key=lambda x: x[1], reverse=True)}"
   ]
  },
  {
   "cell_type": "code",
   "execution_count": null,
   "id": "peaceful-turkey",
   "metadata": {
    "ExecuteTime": {
     "end_time": "2021-08-13T13:15:01.520030Z",
     "start_time": "2021-08-13T13:15:01.501031Z"
    },
    "hidden": true
   },
   "outputs": [],
   "source": [
    "tag_frequencies"
   ]
  },
  {
   "cell_type": "code",
   "execution_count": null,
   "id": "blind-shipping",
   "metadata": {
    "ExecuteTime": {
     "end_time": "2021-08-13T13:15:02.516073Z",
     "start_time": "2021-08-13T13:15:02.333085Z"
    },
    "hidden": true
   },
   "outputs": [],
   "source": [
    "plt.figure(figsize=(20,5))\n",
    "plt.bar(range(len(tag_frequencies)), list(tag_frequencies.values()), align='center')\n",
    "plt.xticks(range(len(tag_frequencies)), list(tag_frequencies.keys()))\n",
    "plt.xlabel('Tag')\n",
    "plt.ylabel('Häufigkeit')\n",
    "plt.gca().invert_xaxis()\n",
    "plt.show()"
   ]
  },
  {
   "cell_type": "markdown",
   "id": "sustained-angel",
   "metadata": {
    "ExecuteTime": {
     "end_time": "2021-07-27T14:46:46.539949Z",
     "start_time": "2021-07-27T14:46:46.522951Z"
    }
   },
   "source": [
    "## related topics\n",
    "Ein Artikel kann mehrere related topics, oder auch gar kein related topic haben. Bei ca. 7,5 % fehlt der Eintrag. Es gibt insgesamt 913 verschiedene related topics, wobei \"Elektromobilität\" die häufigste ist und in insgesamt 11,5 % der Artikel auftaucht."
   ]
  },
  {
   "cell_type": "code",
   "execution_count": null,
   "id": "narrative-northwest",
   "metadata": {
    "ExecuteTime": {
     "end_time": "2021-08-13T13:15:39.057400Z",
     "start_time": "2021-08-13T13:15:39.044369Z"
    }
   },
   "outputs": [],
   "source": [
    "related_topics = [article[\"related_topics\"] for article in articles]"
   ]
  },
  {
   "cell_type": "code",
   "execution_count": null,
   "id": "magnetic-storm",
   "metadata": {
    "ExecuteTime": {
     "end_time": "2021-08-13T13:15:39.569828Z",
     "start_time": "2021-08-13T13:15:39.553368Z"
    }
   },
   "outputs": [],
   "source": [
    "counter=0\n",
    "# Wie viele leere Elemente sind in der Liste? \n",
    "for topic in related_topics:\n",
    "    if not topic:\n",
    "        counter += 1\n",
    "print('Anzahl der Einträge insgesammt:',len(related_topics) ,'Anzahl der leeren Einträge:',counter)   "
   ]
  },
  {
   "cell_type": "code",
   "execution_count": null,
   "id": "attractive-ocean",
   "metadata": {
    "ExecuteTime": {
     "end_time": "2021-08-13T13:15:40.156869Z",
     "start_time": "2021-08-13T13:15:40.139371Z"
    },
    "scrolled": true
   },
   "outputs": [],
   "source": [
    "related_topics_freq = {}\n",
    "for topics in related_topics:\n",
    "    for topic in topics:\n",
    "        related_topics_freq[topic] = related_topics_freq.get(topic, 0) + 1"
   ]
  },
  {
   "cell_type": "code",
   "execution_count": null,
   "id": "pediatric-motorcycle",
   "metadata": {
    "ExecuteTime": {
     "end_time": "2021-08-13T13:15:44.125370Z",
     "start_time": "2021-08-13T13:15:44.061595Z"
    }
   },
   "outputs": [],
   "source": [
    "topics_df = pd.DataFrame(related_topics_freq.items(),columns=['topic_name','frequency'])\n",
    "topics_df = topics_df.sort_values(by='frequency',ascending=False)\n",
    "topics_df[\"rel_frequency_article\"] = topics_df[\"frequency\"]/len(articles)\n",
    "topics_df"
   ]
  },
  {
   "cell_type": "code",
   "execution_count": null,
   "id": "important-nirvana",
   "metadata": {
    "ExecuteTime": {
     "end_time": "2021-08-13T13:15:52.490454Z",
     "start_time": "2021-08-13T13:15:50.688674Z"
    }
   },
   "outputs": [],
   "source": [
    "topics_df.head(50).plot(kind='bar',x = \"topic_name\",y='frequency',figsize=(10,10))"
   ]
  },
  {
   "cell_type": "markdown",
   "id": "promotional-personal",
   "metadata": {},
   "source": [
    "### Veränderung der Topics in verschiedenen Jahren\n",
    "\n",
    "Man erkennt sehr gut, dass die Themen Elektromobilität, Elektoauto, Apple und Geschäftszahlen (im Jahr 2021 auf Platz 7) in allen Jahren eine sehr große Bedeutung gespielt haben. Zusätzlich gibt es weiteren Themen die jeweils in verschiedenen Jahren eine Rolle gespielt haben:\n",
    "\n",
    "    - 2017 EU\n",
    "    - 2018 Abgas-Skandal\n",
    "    - 2019 Mobilfunk\n",
    "    - 2020 Coronavirus\n",
    "    - 2021 Coronavirus, Klimawandel"
   ]
  },
  {
   "cell_type": "code",
   "execution_count": null,
   "id": "eligible-asthma",
   "metadata": {
    "ExecuteTime": {
     "end_time": "2021-08-13T13:16:59.855822Z",
     "start_time": "2021-08-13T13:16:59.383417Z"
    }
   },
   "outputs": [],
   "source": [
    "year_topic = [[datetime.strptime(article[\"date\"], \"%m-%d-%Y, %H:%M\").year, topic] for article in articles for topic in article[\"related_topics\"]]\n",
    "year_topic = pd.DataFrame(year_topic, columns=[\"year\",\"topic\"])"
   ]
  },
  {
   "cell_type": "code",
   "execution_count": null,
   "id": "checked-bunch",
   "metadata": {
    "ExecuteTime": {
     "end_time": "2021-08-13T13:17:00.393743Z",
     "start_time": "2021-08-13T13:17:00.352573Z"
    }
   },
   "outputs": [],
   "source": [
    "year_topic_freq_df = year_topic.groupby(['year','topic']).size().groupby('year', group_keys=False).nlargest(5).reset_index(name=\"frequency\")\n",
    "# Nur die Jahre 2017 bis 2021\n",
    "year_topic_freq_df = year_topic_freq_df[year_topic_freq_df.year.isin(range(2017,2022))]"
   ]
  },
  {
   "cell_type": "code",
   "execution_count": null,
   "id": "hidden-heavy",
   "metadata": {
    "ExecuteTime": {
     "end_time": "2021-08-13T13:17:01.032280Z",
     "start_time": "2021-08-13T13:17:01.016682Z"
    }
   },
   "outputs": [],
   "source": [
    "year_topic_freq_pivot = year_topic_freq_df.pivot(index=\"year\",columns=\"topic\", values=\"frequency\")\n",
    "#Sortieren nach NaN Werten, um besseren Barplot zu erhalten\n",
    "year_topic_freq_pivot = year_topic_freq_pivot[year_topic_freq_pivot.isnull().sum().sort_values(ascending=True).index]"
   ]
  },
  {
   "cell_type": "code",
   "execution_count": null,
   "id": "novel-kentucky",
   "metadata": {
    "ExecuteTime": {
     "end_time": "2021-08-13T13:17:19.155373Z",
     "start_time": "2021-08-13T13:17:18.758085Z"
    }
   },
   "outputs": [],
   "source": [
    "fig, ax = plt.subplots(figsize=(20,10))\n",
    "#order = ['Elektromobilität','Elektroauto', 'Apple','Geschäftszahlen','EU','Abgas-Skandal', 'Mobilfunk', 'Coronavirus', 'Klimawandel']\n",
    "year_topic_freq_pivot.plot.bar(stacked=True, ax=ax)\n",
    "plt.show()"
   ]
  },
  {
   "cell_type": "markdown",
   "id": "solar-blake",
   "metadata": {
    "ExecuteTime": {
     "end_time": "2021-07-27T14:48:11.884990Z",
     "start_time": "2021-07-27T14:48:11.874992Z"
    }
   },
   "source": [
    "## authors\n",
    "\n",
    "In den meisten Fällen stammt ein Artikel von nur einem Autor. Neben der dpa (4665) sind Andreas Wilkens(1556), Stefan Krempl(845) und Ben Schwan(712)\tdie Autoren, die am meisten Artikel geschrieben haben. Wobei Andreas Wilkens (Elektro-)Autos, Stefan Krempl EU und Datenschutz und Ben Schwan Apple thematisiert."
   ]
  },
  {
   "cell_type": "markdown",
   "id": "superior-listing",
   "metadata": {
    "ExecuteTime": {
     "end_time": "2021-07-27T15:02:44.099738Z",
     "start_time": "2021-07-27T15:02:44.082742Z"
    },
    "heading_collapsed": true
   },
   "source": [
    "### clean\n",
    "Manchmal durch \"und\" oder \",\" und nicht als neues Listenelement"
   ]
  },
  {
   "cell_type": "code",
   "execution_count": null,
   "id": "sporting-oxide",
   "metadata": {
    "ExecuteTime": {
     "end_time": "2021-08-13T13:58:47.263688Z",
     "start_time": "2021-08-13T13:58:47.245689Z"
    },
    "hidden": true
   },
   "outputs": [],
   "source": [
    "authors_article = [article[\"authors\"] for article in articles]"
   ]
  },
  {
   "cell_type": "code",
   "execution_count": null,
   "id": "random-philip",
   "metadata": {
    "ExecuteTime": {
     "end_time": "2021-08-13T13:58:47.695688Z",
     "start_time": "2021-08-13T13:58:47.649689Z"
    },
    "hidden": true
   },
   "outputs": [],
   "source": [
    "for i, authors in enumerate(authors_article):\n",
    "    tmp_elem = []\n",
    "    for author_s in authors:\n",
    "        tmp_elem += re.split(',| und |;|/', author_s)\n",
    "        \n",
    "    authors_article[i] = [author.strip() for author in tmp_elem]"
   ]
  },
  {
   "cell_type": "code",
   "execution_count": null,
   "id": "found-exclusion",
   "metadata": {
    "ExecuteTime": {
     "end_time": "2021-08-13T13:58:48.140689Z",
     "start_time": "2021-08-13T13:58:48.111983Z"
    },
    "hidden": true
   },
   "outputs": [],
   "source": [
    "for authors in authors_article:\n",
    "    for i, author in enumerate(authors):\n",
    "        if '' == author:\n",
    "            authors.remove(author)\n",
    "        if '-Korrespondenten' == author:\n",
    "            authors.remove(author)\n",
    "        if '. Felix Frieler' == author:\n",
    "            authors[i] = 'Felix Frieler'\n",
    "        if 'Grundhoff' == author:\n",
    "            authors[i] = 'Stefan Grundhoff'\n",
    "        if 'Martin Fischer (translation by Fabian A. Scherschel)' == author:\n",
    "            authors[i] = 'Martin Fischer'\n",
    "            authors.append(\"Fabian A. Scherschel\")\n",
    "        if author.startswith(\"Dr.\"):\n",
    "            authors[i] = author.split(\"Dr.\")[1][1:]\n",
    "        if \"Stefan 'Krempl\" == author:\n",
    "             authors[i] = 'Stefan Krempl'\n",
    "        if 'Wolf von Dewitz (dpa)' == author:\n",
    "            authors[i] = 'Wolf von Dewitz'\n",
    "        if 'Veronika Szentpetery' == author or 'Veronika Szentpetery-Kessler' == author:\n",
    "            authors[i] = 'Veronika Szentpétery-Kessler'\n",
    "        if 'Übersetzung: Ben Schwan' == author:\n",
    "            authors[i] = 'Ben Schwan'\n",
    "        if 'press-inform' == author:\n",
    "            authors[i] = 'pressinform'\n",
    "            \n",
    "        material_dpa = ['Mit Material von dpa', 'mit Material von dpa','mt Material von dpa']\n",
    "        if author in material_dpa:\n",
    "             authors[i] = 'mit Material der dpa'\n",
    "        \n",
    "        dpa = ['den dpa-Korrespondentinnen', 'dpa-AFX', 'dpa-Korrespondenten']\n",
    "        if author in dpa:\n",
    "            authors[i] = 'dpa'          "
   ]
  },
  {
   "cell_type": "markdown",
   "id": "cheap-river",
   "metadata": {
    "heading_collapsed": true
   },
   "source": [
    "###  Durchschnittliche Anzahl Autoren pro Artikel"
   ]
  },
  {
   "cell_type": "code",
   "execution_count": null,
   "id": "blank-restaurant",
   "metadata": {
    "ExecuteTime": {
     "end_time": "2021-08-13T14:09:17.618114Z",
     "start_time": "2021-08-13T14:09:17.607602Z"
    },
    "hidden": true
   },
   "outputs": [],
   "source": [
    "authors_count_per_article = np.array([len(authors) for authors in authors_article])\n",
    "np.mean(authors_count_per_article)"
   ]
  },
  {
   "cell_type": "markdown",
   "id": "southwest-advantage",
   "metadata": {
    "heading_collapsed": true
   },
   "source": [
    "### Meiste Autoren pro Artikel"
   ]
  },
  {
   "cell_type": "code",
   "execution_count": null,
   "id": "forced-aruba",
   "metadata": {
    "ExecuteTime": {
     "end_time": "2021-08-13T14:10:33.260546Z",
     "start_time": "2021-08-13T14:10:33.248542Z"
    },
    "hidden": true
   },
   "outputs": [],
   "source": [
    "print(np.max(authors_count_per_article))\n",
    "print(authors_article[np.argmax(authors_count_per_article)])"
   ]
  },
  {
   "cell_type": "markdown",
   "id": "sitting-welcome",
   "metadata": {
    "heading_collapsed": true
   },
   "source": [
    "### Artikel ohne angegebenen Autor"
   ]
  },
  {
   "cell_type": "code",
   "execution_count": null,
   "id": "empirical-parallel",
   "metadata": {
    "ExecuteTime": {
     "end_time": "2021-08-13T14:10:41.234522Z",
     "start_time": "2021-08-13T14:10:41.215522Z"
    },
    "hidden": true
   },
   "outputs": [],
   "source": [
    "np.count_nonzero(authors_count_per_article==0)"
   ]
  },
  {
   "cell_type": "markdown",
   "id": "manual-horizon",
   "metadata": {
    "heading_collapsed": true
   },
   "source": [
    "### Häufigste Autoren"
   ]
  },
  {
   "cell_type": "code",
   "execution_count": null,
   "id": "bizarre-uzbekistan",
   "metadata": {
    "ExecuteTime": {
     "end_time": "2021-08-13T14:57:34.261928Z",
     "start_time": "2021-08-13T14:57:34.244762Z"
    },
    "hidden": true
   },
   "outputs": [],
   "source": [
    "authors = [author for authors in authors_article for author in authors]\n",
    "authors_df = pd.DataFrame(authors,columns=['author_name'])"
   ]
  },
  {
   "cell_type": "code",
   "execution_count": null,
   "id": "iraqi-wiring",
   "metadata": {
    "ExecuteTime": {
     "end_time": "2021-08-13T14:33:20.398380Z",
     "start_time": "2021-08-13T14:33:20.336826Z"
    },
    "hidden": true
   },
   "outputs": [],
   "source": [
    "authors_df = authors_df.groupby(['author_name']).size()\n",
    "authors_df = pd.DataFrame(authors_df).reset_index()\n",
    "authors_df = authors_df.rename(columns={0:\"number_articles\"})\n",
    "authors_df = authors_df.sort_values(by='number_articles',ascending=False)\n",
    "authors_df.head(10)"
   ]
  },
  {
   "cell_type": "code",
   "execution_count": null,
   "id": "trying-portland",
   "metadata": {
    "ExecuteTime": {
     "end_time": "2021-08-13T14:36:42.121809Z",
     "start_time": "2021-08-13T14:36:41.911556Z"
    },
    "hidden": true
   },
   "outputs": [],
   "source": [
    "authors_df.head(20).plot(kind='bar',x = \"author_name\",y='number_articles',figsize=(10,10))\n",
    "plt.show()"
   ]
  },
  {
   "cell_type": "markdown",
   "id": "known-green",
   "metadata": {
    "heading_collapsed": true
   },
   "source": [
    "### Themen der häufigsten Autoren"
   ]
  },
  {
   "cell_type": "code",
   "execution_count": null,
   "id": "bridal-customs",
   "metadata": {
    "ExecuteTime": {
     "end_time": "2021-08-16T13:11:47.161349Z",
     "start_time": "2021-08-16T13:11:47.139350Z"
    },
    "hidden": true
   },
   "outputs": [],
   "source": [
    "author_topics = []\n",
    "for authors , article in zip(authors_article,articles):\n",
    "    if \"Andreas Wilkens\" in authors:\n",
    "        author_topics += article[\"related_topics\"]\n",
    "        \n",
    "pd.DataFrame(author_topics).groupby([0]).size().to_frame().rename(columns={0:\"topic_frequency\"}).sort_values(by=\"topic_frequency\",ascending=False).head(5)"
   ]
  },
  {
   "cell_type": "code",
   "execution_count": null,
   "id": "personal-daisy",
   "metadata": {
    "ExecuteTime": {
     "end_time": "2021-08-16T13:12:21.563329Z",
     "start_time": "2021-08-16T13:12:21.539332Z"
    },
    "hidden": true
   },
   "outputs": [],
   "source": [
    "author_topics = []\n",
    "for authors , article in zip(authors_article,articles):\n",
    "    if \"Stefan Krempl\" in authors:\n",
    "        author_topics += article[\"related_topics\"]\n",
    "        \n",
    "pd.DataFrame(author_topics).groupby([0]).size().to_frame().rename(columns={0:\"topic_frequency\"}).sort_values(by=\"topic_frequency\",ascending=False).head(5)"
   ]
  },
  {
   "cell_type": "code",
   "execution_count": null,
   "id": "handed-advertising",
   "metadata": {
    "ExecuteTime": {
     "end_time": "2021-08-16T13:13:14.815936Z",
     "start_time": "2021-08-16T13:13:14.789938Z"
    },
    "hidden": true
   },
   "outputs": [],
   "source": [
    "author_topics = []\n",
    "for authors , article in zip(authors_article,articles):\n",
    "    if \"Ben Schwan\" in authors:\n",
    "        author_topics += article[\"related_topics\"]\n",
    "        \n",
    "pd.DataFrame(author_topics).groupby([0]).size().to_frame().rename(columns={0:\"topic_frequency\"}).sort_values(by=\"topic_frequency\",ascending=False).head(5)"
   ]
  },
  {
   "cell_type": "markdown",
   "id": "rising-parallel",
   "metadata": {
    "ExecuteTime": {
     "end_time": "2021-08-13T14:39:09.862082Z",
     "start_time": "2021-08-13T14:39:09.848082Z"
    },
    "heading_collapsed": true
   },
   "source": [
    "### Häufige Autoren-Paare"
   ]
  },
  {
   "cell_type": "code",
   "execution_count": null,
   "id": "capital-brother",
   "metadata": {
    "ExecuteTime": {
     "end_time": "2021-08-13T15:07:51.719053Z",
     "start_time": "2021-08-13T15:07:51.696397Z"
    },
    "hidden": true
   },
   "outputs": [],
   "source": [
    "author_pairs = []\n",
    "for authors in authors_article:\n",
    "    author_pairs += list(itertools.combinations(authors, 2))"
   ]
  },
  {
   "cell_type": "code",
   "execution_count": null,
   "id": "three-seeking",
   "metadata": {
    "ExecuteTime": {
     "end_time": "2021-08-13T15:07:52.163006Z",
     "start_time": "2021-08-13T15:07:52.148976Z"
    },
    "hidden": true
   },
   "outputs": [],
   "source": [
    "author_pairs_df = pd.DataFrame(np.ones(len(author_pairs)))\n",
    "author_pairs_df[\"author_pair\"] = author_pairs"
   ]
  },
  {
   "cell_type": "code",
   "execution_count": null,
   "id": "finnish-conflict",
   "metadata": {
    "ExecuteTime": {
     "end_time": "2021-08-13T15:07:52.543968Z",
     "start_time": "2021-08-13T15:07:52.529968Z"
    },
    "hidden": true
   },
   "outputs": [],
   "source": [
    "author_pairs_df = author_pairs_df.groupby([\"author_pair\"]).count()\n",
    "author_pairs_df = author_pairs_df.reset_index()\n",
    "author_pairs_df = author_pairs_df.rename(columns={0:\"number_author_pair\"})\n",
    "author_pairs_df = author_pairs_df.sort_values(by='number_author_pair',ascending=False)\n",
    "author_pairs_df.head(10)"
   ]
  },
  {
   "cell_type": "markdown",
   "id": "sitting-campaign",
   "metadata": {
    "heading_collapsed": true
   },
   "source": [
    "## heading\n",
    "Eine Überschrift ist im Schnitt 7,4 Zeichen lang. Die häufigsten Wörter als auch lemmas sind Apple, US (US-amerkanischen (lemma)) und EU."
   ]
  },
  {
   "cell_type": "code",
   "execution_count": null,
   "id": "casual-mount",
   "metadata": {
    "ExecuteTime": {
     "end_time": "2021-08-17T14:32:49.441188Z",
     "start_time": "2021-08-17T14:32:49.427189Z"
    },
    "hidden": true
   },
   "outputs": [],
   "source": [
    "headings = [article[\"heading\"] for article in articles]\n",
    "headings_concat = ' '.join(headings)"
   ]
  },
  {
   "cell_type": "code",
   "execution_count": null,
   "id": "fiscal-austin",
   "metadata": {
    "ExecuteTime": {
     "end_time": "2021-08-17T14:43:39.752292Z",
     "start_time": "2021-08-17T14:43:38.681020Z"
    },
    "hidden": true
   },
   "outputs": [],
   "source": [
    "# remove stopwords, and numbers, and anything that's not alphanumeric or underscore\n",
    "heading_tokens = word_tokenize(headings_concat)\n",
    "headings_clean = \" \".join([w for w in heading_tokens if not w.lower() in STOP_WORDS])\n",
    "headings_clean = re.sub(r'[^\\w]', ' ', headings_clean)\n",
    "#headings_clean = re.sub(r'[0-9]+', '', headings_clean)"
   ]
  },
  {
   "cell_type": "markdown",
   "id": "numerous-regard",
   "metadata": {
    "ExecuteTime": {
     "end_time": "2021-08-16T14:14:39.664443Z",
     "start_time": "2021-08-16T14:14:39.653409Z"
    },
    "hidden": true
   },
   "source": [
    "### Durchschnittliche Länge"
   ]
  },
  {
   "cell_type": "code",
   "execution_count": null,
   "id": "cosmetic-beaver",
   "metadata": {
    "ExecuteTime": {
     "end_time": "2021-08-17T14:43:44.792709Z",
     "start_time": "2021-08-17T14:43:44.762702Z"
    },
    "hidden": true
   },
   "outputs": [],
   "source": [
    "heading_lens = []\n",
    "for heading in headings:\n",
    "    heading_len = len(heading.split())\n",
    "    heading_lens.append(heading_len)\n",
    "    \n",
    "print('Durschnittliche Länge der Headings:',np.mean(heading_lens))\n",
    "print('Längste Heading:',np.max(heading_lens),\"\\n\", headings[np.argmax(heading_lens)])\n",
    "print('Kürzeste Heading:',np.min(heading_lens),\"\\n\", headings[np.argmin(heading_lens)])"
   ]
  },
  {
   "cell_type": "markdown",
   "id": "periodic-channel",
   "metadata": {
    "ExecuteTime": {
     "end_time": "2021-08-16T13:27:55.604431Z",
     "start_time": "2021-08-16T13:27:55.594397Z"
    },
    "hidden": true
   },
   "source": [
    "### Häufigste Wörter"
   ]
  },
  {
   "cell_type": "code",
   "execution_count": null,
   "id": "photographic-capability",
   "metadata": {
    "ExecuteTime": {
     "end_time": "2021-08-17T14:43:53.630521Z",
     "start_time": "2021-08-17T14:43:49.542442Z"
    },
    "hidden": true
   },
   "outputs": [],
   "source": [
    "STOPWORDS.update(STOP_WORDS)\n",
    "wordcloud = WordCloud(background_color=\"white\",width=1920, height=1080, max_words=50).generate(headings_clean)\n",
    "\n",
    "plt.figure(figsize=(8, 6), dpi=80)\n",
    "plt.imshow(wordcloud, interpolation=\"bilinear\")\n",
    "plt.axis(\"off\")\n",
    "plt.show()"
   ]
  },
  {
   "cell_type": "code",
   "execution_count": null,
   "id": "dominican-compound",
   "metadata": {
    "ExecuteTime": {
     "end_time": "2021-08-17T14:49:53.000429Z",
     "start_time": "2021-08-17T14:49:52.900428Z"
    },
    "hidden": true
   },
   "outputs": [],
   "source": [
    "heading_words_list = headings_clean.split() \n",
    "heading_words_df = pd.DataFrame(heading_words_list,columns=['words'])\n",
    "df = heading_words_df.groupby(['words']).size().to_frame().rename(columns={0:\"number_words\"})\n",
    "sorted_df = df.sort_values(by='number_words',ascending=False)\n",
    "sorted_df.head(15)"
   ]
  },
  {
   "cell_type": "code",
   "execution_count": null,
   "id": "higher-signal",
   "metadata": {
    "ExecuteTime": {
     "end_time": "2021-08-17T14:51:11.775231Z",
     "start_time": "2021-08-17T14:51:11.362230Z"
    },
    "hidden": true
   },
   "outputs": [],
   "source": [
    "plt.figure(figsize=(25, 15), dpi=100)\n",
    "sorted_df.head(25).plot.bar()\n",
    "plt.show()"
   ]
  },
  {
   "cell_type": "markdown",
   "id": "least-confidentiality",
   "metadata": {
    "ExecuteTime": {
     "end_time": "2021-08-17T13:58:46.652016Z",
     "start_time": "2021-08-17T13:58:46.633017Z"
    },
    "heading_collapsed": true,
    "hidden": true
   },
   "source": [
    "### Häufigste Lemmas"
   ]
  },
  {
   "cell_type": "code",
   "execution_count": null,
   "id": "inner-france",
   "metadata": {
    "ExecuteTime": {
     "end_time": "2021-08-17T14:52:12.462287Z",
     "start_time": "2021-08-17T14:51:29.102270Z"
    },
    "hidden": true
   },
   "outputs": [],
   "source": [
    "headings_clean_spacy = nlp(headings_clean)\n",
    "headings_clean_lemmas = \" \".join([token.lemma_ for token in headings_clean_spacy])"
   ]
  },
  {
   "cell_type": "code",
   "execution_count": null,
   "id": "stone-transformation",
   "metadata": {
    "ExecuteTime": {
     "end_time": "2021-08-17T14:52:20.618579Z",
     "start_time": "2021-08-17T14:52:16.831577Z"
    },
    "hidden": true
   },
   "outputs": [],
   "source": [
    "wordcloud = WordCloud(background_color=\"white\",width=1920, height=1080, max_words=50).generate(headings_clean_lemmas)\n",
    "\n",
    "plt.figure(figsize=(8, 6), dpi=80)\n",
    "plt.imshow(wordcloud, interpolation=\"bilinear\")\n",
    "plt.axis(\"off\")\n",
    "plt.show()"
   ]
  },
  {
   "cell_type": "code",
   "execution_count": null,
   "id": "corrected-maple",
   "metadata": {
    "ExecuteTime": {
     "end_time": "2021-08-17T14:52:26.094667Z",
     "start_time": "2021-08-17T14:52:26.000671Z"
    },
    "hidden": true
   },
   "outputs": [],
   "source": [
    "heading_words_list = headings_clean_lemmas.split() \n",
    "heading_words_df = pd.DataFrame(heading_words_list,columns=['words'])\n",
    "df = heading_words_df.groupby(['words']).size().to_frame().rename(columns={0:\"number_words\"})\n",
    "sorted_df = df.sort_values(by='number_words',ascending=False)\n",
    "sorted_df.head(15)"
   ]
  },
  {
   "cell_type": "code",
   "execution_count": null,
   "id": "familiar-abuse",
   "metadata": {
    "ExecuteTime": {
     "end_time": "2021-08-17T14:52:32.782787Z",
     "start_time": "2021-08-17T14:52:32.401788Z"
    },
    "hidden": true
   },
   "outputs": [],
   "source": [
    "plt.figure(figsize=(25, 15), dpi=100)\n",
    "sorted_df.head(25).plot.bar()\n",
    "plt.show()"
   ]
  },
  {
   "cell_type": "markdown",
   "id": "lesser-specialist",
   "metadata": {
    "ExecuteTime": {
     "end_time": "2021-07-27T14:48:44.563487Z",
     "start_time": "2021-07-27T14:48:44.558435Z"
    },
    "heading_collapsed": true
   },
   "source": [
    "## lead\n",
    "\n",
    "Ein Lead ist im Schnitt 21 Wörter lang. Die häufigsten Wörte den ähnlich zu denen der Überschriften, allerding verdrängen die Wörter Deutschland und Unternehmen, die Wörter Apple und EU von den ersten Plätzen. Die häufigsten Lemmas unterscheiden sich ebenfalls nzr gering von den häufigsten Wörtern."
   ]
  },
  {
   "cell_type": "code",
   "execution_count": null,
   "id": "digital-warrant",
   "metadata": {
    "ExecuteTime": {
     "end_time": "2021-08-17T14:52:37.706795Z",
     "start_time": "2021-08-17T14:52:37.692789Z"
    },
    "hidden": true
   },
   "outputs": [],
   "source": [
    "leads = [article[\"lead\"] for article in articles]\n",
    "leads_concat = ' '.join(leads)"
   ]
  },
  {
   "cell_type": "code",
   "execution_count": null,
   "id": "contrary-toner",
   "metadata": {
    "ExecuteTime": {
     "end_time": "2021-08-17T14:52:48.152324Z",
     "start_time": "2021-08-17T14:52:42.601793Z"
    },
    "hidden": true
   },
   "outputs": [],
   "source": [
    "# remove stopwords, and numbers, and anything that's not alphanumeric or underscore\n",
    "leads_tokens = word_tokenize(leads_concat)\n",
    "leads_clean = \" \".join([w for w in leads_tokens if not w.lower() in STOP_WORDS])\n",
    "leads_clean = re.sub(r'[^\\w]', ' ', leads_clean)\n",
    "#leads_clean = re.sub(r'[0-9]+', '', leads_clean)"
   ]
  },
  {
   "cell_type": "markdown",
   "id": "nominated-sunglasses",
   "metadata": {
    "heading_collapsed": true,
    "hidden": true
   },
   "source": [
    "### Durchschnittliche Länge"
   ]
  },
  {
   "cell_type": "code",
   "execution_count": null,
   "id": "addressed-circuit",
   "metadata": {
    "ExecuteTime": {
     "end_time": "2021-08-17T14:52:53.881324Z",
     "start_time": "2021-08-17T14:52:53.819327Z"
    },
    "hidden": true
   },
   "outputs": [],
   "source": [
    "lead_lens = []\n",
    "for lead in leads:\n",
    "    lead_len = len(lead.split())\n",
    "    lead_lens.append(lead_len)\n",
    "    \n",
    "print('Durschnittliche Länge der Leads:',np.mean(lead_lens))\n",
    "print('Längster Lead:',np.max(lead_lens))\n",
    "print('Kürzester Lead:',np.min(lead_lens))"
   ]
  },
  {
   "cell_type": "markdown",
   "id": "deluxe-portsmouth",
   "metadata": {
    "heading_collapsed": true,
    "hidden": true
   },
   "source": [
    "### Häufigste Wörter"
   ]
  },
  {
   "cell_type": "code",
   "execution_count": null,
   "id": "headed-while",
   "metadata": {
    "ExecuteTime": {
     "end_time": "2021-08-17T14:53:06.158982Z",
     "start_time": "2021-08-17T14:52:59.445985Z"
    },
    "hidden": true
   },
   "outputs": [],
   "source": [
    "STOPWORDS.update(STOP_WORDS)\n",
    "wordcloud = WordCloud(background_color=\"white\",width=1920, height=1080, max_words=50).generate(leads_clean)\n",
    "\n",
    "plt.figure(figsize=(8, 6), dpi=80)\n",
    "plt.imshow(wordcloud, interpolation=\"bilinear\")\n",
    "plt.axis(\"off\")\n",
    "plt.show()"
   ]
  },
  {
   "cell_type": "code",
   "execution_count": null,
   "id": "accompanied-triangle",
   "metadata": {
    "ExecuteTime": {
     "end_time": "2021-08-17T14:53:12.807634Z",
     "start_time": "2021-08-17T14:53:12.650630Z"
    },
    "hidden": true
   },
   "outputs": [],
   "source": [
    "lead_words_list = leads_clean.split() \n",
    "lead_words_df = pd.DataFrame(lead_words_list,columns=['words'])\n",
    "df = lead_words_df.groupby(['words']).size().to_frame().rename(columns={0:\"number_words\"})\n",
    "sorted_df = df.sort_values(by='number_words',ascending=False)\n",
    "sorted_df.head(15)"
   ]
  },
  {
   "cell_type": "code",
   "execution_count": null,
   "id": "piano-louisiana",
   "metadata": {
    "ExecuteTime": {
     "end_time": "2021-08-17T14:53:18.789630Z",
     "start_time": "2021-08-17T14:53:18.440628Z"
    },
    "hidden": true
   },
   "outputs": [],
   "source": [
    "plt.figure(figsize=(25, 15), dpi=100)\n",
    "sorted_df.head(25).plot.bar()\n",
    "plt.show()"
   ]
  },
  {
   "cell_type": "markdown",
   "id": "ordered-forestry",
   "metadata": {
    "hidden": true
   },
   "source": [
    "### Häufigste Lemmas"
   ]
  },
  {
   "cell_type": "code",
   "execution_count": null,
   "id": "living-constraint",
   "metadata": {
    "ExecuteTime": {
     "end_time": "2021-08-17T14:53:23.816629Z",
     "start_time": "2021-08-17T14:53:23.802630Z"
    },
    "hidden": true
   },
   "outputs": [],
   "source": [
    "nlp.max_length = 1628578"
   ]
  },
  {
   "cell_type": "code",
   "execution_count": null,
   "id": "differential-albania",
   "metadata": {
    "ExecuteTime": {
     "end_time": "2021-08-17T14:55:54.725949Z",
     "start_time": "2021-08-17T14:53:27.966789Z"
    },
    "hidden": true
   },
   "outputs": [],
   "source": [
    "leads_clean_spacy = nlp(leads_clean)\n",
    "leads_clean_lemmas = \" \".join([token.lemma_ for token in leads_clean_spacy])"
   ]
  },
  {
   "cell_type": "code",
   "execution_count": null,
   "id": "recognized-handle",
   "metadata": {
    "ExecuteTime": {
     "end_time": "2021-08-17T14:56:01.214567Z",
     "start_time": "2021-08-17T14:55:57.701793Z"
    },
    "hidden": true
   },
   "outputs": [],
   "source": [
    "wordcloud = WordCloud(background_color=\"white\",width=1920, height=1080, max_words=50).generate(leads_clean_lemmas)\n",
    "\n",
    "plt.figure(figsize=(8, 6), dpi=80)\n",
    "plt.imshow(wordcloud, interpolation=\"bilinear\")\n",
    "plt.axis(\"off\")\n",
    "plt.show()"
   ]
  },
  {
   "cell_type": "code",
   "execution_count": null,
   "id": "healthy-palmer",
   "metadata": {
    "ExecuteTime": {
     "end_time": "2021-08-17T14:56:04.364751Z",
     "start_time": "2021-08-17T14:56:04.242605Z"
    },
    "hidden": true
   },
   "outputs": [],
   "source": [
    "leads_words_list = leads_clean_lemmas.split() \n",
    "leads_words_df = pd.DataFrame(leads_words_list,columns=['words'])\n",
    "df = leads_words_df.groupby(['words']).size().to_frame().rename(columns={0:\"number_words\"})\n",
    "sorted_df = df.sort_values(by='number_words',ascending=False)\n",
    "sorted_df.head(15)"
   ]
  },
  {
   "cell_type": "code",
   "execution_count": null,
   "id": "expensive-baghdad",
   "metadata": {
    "ExecuteTime": {
     "end_time": "2021-08-17T14:56:07.653956Z",
     "start_time": "2021-08-17T14:56:07.447662Z"
    },
    "hidden": true
   },
   "outputs": [],
   "source": [
    "plt.figure(figsize=(25, 15), dpi=100)\n",
    "sorted_df.head(25).plot.bar()\n",
    "plt.show()"
   ]
  },
  {
   "cell_type": "markdown",
   "id": "junior-sympathy",
   "metadata": {
    "ExecuteTime": {
     "end_time": "2021-07-27T14:49:03.370011Z",
     "start_time": "2021-07-27T14:49:03.365003Z"
    }
   },
   "source": [
    "## text\n",
    "Texte sind durchschnittlich 350 Zeichen lang. Der längste Text erstreckt sich über 7558 Zeichen. Genau ein Text umfasst 0 Zeichen, da im Artikel span-Tags statt der üblichen p-Tags verwendet wurden. Die häufigsten Wörter sind Prozent, Unternehmen und Euro."
   ]
  },
  {
   "cell_type": "code",
   "execution_count": null,
   "id": "northern-dating",
   "metadata": {
    "ExecuteTime": {
     "end_time": "2021-08-17T15:05:10.960017Z",
     "start_time": "2021-08-17T15:05:10.923018Z"
    }
   },
   "outputs": [],
   "source": [
    "texts = [article[\"atricle_text\"] for article in articles]\n",
    "texts_concat = ' '.join(texts)"
   ]
  },
  {
   "cell_type": "code",
   "execution_count": null,
   "id": "marine-shark",
   "metadata": {
    "ExecuteTime": {
     "end_time": "2021-08-17T15:05:57.609804Z",
     "start_time": "2021-08-17T15:05:15.072002Z"
    }
   },
   "outputs": [],
   "source": [
    "# remove stopwords, and numbers, and anything that's not alphanumeric or underscore\n",
    "texts_tokens = word_tokenize(texts_concat)\n",
    "texts_clean = \" \".join([w for w in texts_tokens if not w.lower() in STOP_WORDS])\n",
    "texts_clean = re.sub(r'[^\\w]', ' ', texts_clean)\n",
    "texts_clean = re.sub(r'[0-9]+', '', texts_clean)"
   ]
  },
  {
   "cell_type": "markdown",
   "id": "exciting-falls",
   "metadata": {
    "ExecuteTime": {
     "end_time": "2021-08-17T14:31:45.446109Z",
     "start_time": "2021-08-17T14:31:45.417111Z"
    },
    "heading_collapsed": true
   },
   "source": [
    "### Durchschnittliche Länge"
   ]
  },
  {
   "cell_type": "code",
   "execution_count": null,
   "id": "stunning-following",
   "metadata": {
    "ExecuteTime": {
     "end_time": "2021-08-17T15:12:12.928057Z",
     "start_time": "2021-08-17T15:12:12.583978Z"
    },
    "hidden": true
   },
   "outputs": [],
   "source": [
    "text_lens = []\n",
    "for text in texts:\n",
    "    text_len = len(text.split())\n",
    "    text_lens.append(text_len)\n",
    "    \n",
    "print('Durschnittliche Länge der Texte:',np.mean(text_lens))\n",
    "print('Längster Text:',np.max(text_lens))\n",
    "print('Kürzester Text:',np.min(text_lens))"
   ]
  },
  {
   "cell_type": "markdown",
   "id": "distinguished-former",
   "metadata": {},
   "source": [
    "### Häufigste Wörter"
   ]
  },
  {
   "cell_type": "code",
   "execution_count": null,
   "id": "wicked-estimate",
   "metadata": {
    "ExecuteTime": {
     "end_time": "2021-08-17T15:14:08.921393Z",
     "start_time": "2021-08-17T15:13:44.105518Z"
    }
   },
   "outputs": [],
   "source": [
    "STOPWORDS.update(STOP_WORDS)\n",
    "wordcloud = WordCloud(background_color=\"white\",width=1920, height=1080, max_words=50).generate(texts_clean)\n",
    "\n",
    "plt.figure(figsize=(8, 6), dpi=80)\n",
    "plt.imshow(wordcloud, interpolation=\"bilinear\")\n",
    "plt.axis(\"off\")\n",
    "plt.show()"
   ]
  },
  {
   "cell_type": "code",
   "execution_count": null,
   "id": "blond-doctrine",
   "metadata": {
    "ExecuteTime": {
     "end_time": "2021-08-17T15:15:36.551857Z",
     "start_time": "2021-08-17T15:15:35.177975Z"
    }
   },
   "outputs": [],
   "source": [
    "text_words_list = texts_clean.split() \n",
    "text_words_df = pd.DataFrame(text_words_list,columns=['words'])\n",
    "df = text_words_df.groupby(['words']).size().to_frame().rename(columns={0:\"number_words\"})\n",
    "sorted_df = df.sort_values(by='number_words',ascending=False)\n",
    "print(sorted_df.head(15))\n",
    "plt.figure(figsize=(25, 15), dpi=100)\n",
    "sorted_df.head(25).plot.bar()\n",
    "plt.show()"
   ]
  },
  {
   "cell_type": "markdown",
   "id": "lesbian-acting",
   "metadata": {},
   "source": [
    "### Häufigste Lemmas"
   ]
  },
  {
   "cell_type": "code",
   "execution_count": null,
   "id": "necessary-jordan",
   "metadata": {
    "ExecuteTime": {
     "end_time": "2021-08-17T15:17:45.159020Z",
     "start_time": "2021-08-17T15:17:45.157020Z"
    }
   },
   "outputs": [],
   "source": [
    "nlp.max_length = len(texts_clean)+1"
   ]
  },
  {
   "cell_type": "code",
   "execution_count": null,
   "id": "stupid-distribution",
   "metadata": {
    "ExecuteTime": {
     "start_time": "2021-08-17T15:18:15.647Z"
    }
   },
   "outputs": [],
   "source": [
    "texts_clean_spacy = nlp(texts_clean)\n",
    "texts_clean_lemmas = \" \".join([token.lemma_ for token in texts_clean_spacy])"
   ]
  },
  {
   "cell_type": "code",
   "execution_count": null,
   "id": "neither-envelope",
   "metadata": {
    "ExecuteTime": {
     "start_time": "2021-08-17T15:18:40.457Z"
    }
   },
   "outputs": [],
   "source": [
    "STOPWORDS.update(STOP_WORDS)\n",
    "wordcloud = WordCloud(background_color=\"white\",width=1920, height=1080, max_words=50).generate(texts_clean_lemmas)\n",
    "\n",
    "plt.figure(figsize=(8, 6), dpi=80)\n",
    "plt.imshow(wordcloud, interpolation=\"bilinear\")\n",
    "plt.axis(\"off\")\n",
    "plt.show()"
   ]
  },
  {
   "cell_type": "code",
   "execution_count": null,
   "id": "unavailable-adrian",
   "metadata": {
    "ExecuteTime": {
     "start_time": "2021-08-17T15:18:40.725Z"
    }
   },
   "outputs": [],
   "source": [
    "text_words_list = texts_clean_lemmas.split() \n",
    "text_words_df = pd.DataFrame(text_words_list,columns=['words'])\n",
    "df = text_words_df.groupby(['words']).size().to_frame().rename(columns={0:\"number_words\"})\n",
    "sorted_df = df.sort_values(by='number_words',ascending=False)\n",
    "print(sorted_df.head(15))\n",
    "plt.figure(figsize=(25, 15), dpi=100)\n",
    "sorted_df.head(25).plot.bar()\n",
    "plt.show()"
   ]
  }
 ],
 "metadata": {
  "kernelspec": {
   "display_name": "Python 3",
   "language": "python",
   "name": "python3"
  },
  "language_info": {
   "codemirror_mode": {
    "name": "ipython",
    "version": 3
   },
   "file_extension": ".py",
   "mimetype": "text/x-python",
   "name": "python",
   "nbconvert_exporter": "python",
   "pygments_lexer": "ipython3",
   "version": "3.7.10"
  },
  "toc": {
   "base_numbering": 1,
   "nav_menu": {},
   "number_sections": true,
   "sideBar": true,
   "skip_h1_title": false,
   "title_cell": "Table of Contents",
   "title_sidebar": "Contents",
   "toc_cell": false,
   "toc_position": {},
   "toc_section_display": true,
   "toc_window_display": false
  },
  "varInspector": {
   "cols": {
    "lenName": 16,
    "lenType": 16,
    "lenVar": 40
   },
   "kernels_config": {
    "python": {
     "delete_cmd_postfix": "",
     "delete_cmd_prefix": "del ",
     "library": "var_list.py",
     "varRefreshCmd": "print(var_dic_list())"
    },
    "r": {
     "delete_cmd_postfix": ") ",
     "delete_cmd_prefix": "rm(",
     "library": "var_list.r",
     "varRefreshCmd": "cat(var_dic_list()) "
    }
   },
   "types_to_exclude": [
    "module",
    "function",
    "builtin_function_or_method",
    "instance",
    "_Feature"
   ],
   "window_display": false
  }
 },
 "nbformat": 4,
 "nbformat_minor": 5
}
